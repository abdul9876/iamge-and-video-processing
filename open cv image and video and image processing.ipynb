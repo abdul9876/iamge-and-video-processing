{
 "cells": [
  {
   "cell_type": "code",
   "execution_count": 1,
   "id": "1535395f",
   "metadata": {},
   "outputs": [
    {
     "name": "stdout",
     "output_type": "stream",
     "text": [
      "Requirement already satisfied: opencv-python in ./opt/anaconda3/lib/python3.9/site-packages (4.6.0.66)\n",
      "Requirement already satisfied: numpy>=1.19.3 in ./opt/anaconda3/lib/python3.9/site-packages (from opencv-python) (1.21.5)\n",
      "Note: you may need to restart the kernel to use updated packages.\n"
     ]
    }
   ],
   "source": [
    "pip install opencv-python"
   ]
  },
  {
   "cell_type": "code",
   "execution_count": 2,
   "id": "c361e43c",
   "metadata": {},
   "outputs": [
    {
     "name": "stdout",
     "output_type": "stream",
     "text": [
      "package imported\n"
     ]
    }
   ],
   "source": [
    "import cv2\n",
    "print(\"package imported\")"
   ]
  },
  {
   "cell_type": "code",
   "execution_count": null,
   "id": "2be81e50",
   "metadata": {},
   "outputs": [],
   "source": [
    "img = cv2.imread(\"abdul.jpeg\")\n",
    "cv2.imshow(\"output\",img)\n",
    "cv2.waitKey(0)"
   ]
  },
  {
   "cell_type": "code",
   "execution_count": null,
   "id": "47b004b3",
   "metadata": {},
   "outputs": [],
   "source": [
    "import cv2\n",
    "cap = cv2.VideoCapture(\"collage.mp4\")\n",
    "while True:\n",
    "    success, img = cap.read()\n",
    "    cv2.imshow(\"video\",img)\n",
    "    if cv2.waitKey(1) & 0xFF == ord('q'):\n",
    "      break"
   ]
  },
  {
   "cell_type": "code",
   "execution_count": null,
   "id": "a871d92f",
   "metadata": {},
   "outputs": [],
   "source": [
    "import cv2\n",
    "cap = cv2.VideoCapture(0)\n",
    "cap.set(3,640)\n",
    "cap.set(4,480)\n",
    "cap.set(10,100)\n",
    "while True:\n",
    "    success, img = cap.read()\n",
    "    cv2.imshow(\"video\",img)\n",
    "    if cv2.waitKey(1) & 0xFF == ord('q'):\n",
    "      break"
   ]
  },
  {
   "cell_type": "code",
   "execution_count": null,
   "id": "ae574876",
   "metadata": {},
   "outputs": [],
   "source": [
    "import cv2\n",
    "img = cv2.imread(\"abdul.jpeg\")\n",
    "cv2.imshow(\"output\",img)\n",
    "imgGray =cv2.cvtColor(img,cv2.COLOR_BGR2GRAY)\n",
    "cv2.imshow(\"Gray image\",imgGray)\n",
    "cv2.waitKey(0)"
   ]
  },
  {
   "cell_type": "code",
   "execution_count": null,
   "id": "8913a579",
   "metadata": {},
   "outputs": [],
   "source": [
    "import cv2\n",
    "img = cv2.imread(\"abdul.JPG\")\n",
    "\n",
    "imgGray =cv2.cvtColor(img,cv2.COLOR_BGR2GRAY)\n",
    "imgBlur = cv2.GaussianBlur(img,(7,7),0)\n",
    "imgCanny = cv2.Canny(img,100,100)\n",
    "cv2.imshow(\"Gray image\",imgGray)\n",
    "cv2.imshow(\"Blur Image\",imgBlur)\n",
    "cv2.imshow(\"Canny Image\",imgCanny)\n",
    "cv2.waitKey(0)"
   ]
  },
  {
   "cell_type": "code",
   "execution_count": null,
   "id": "c2accb70",
   "metadata": {},
   "outputs": [],
   "source": [
    "import numpy as np\n",
    "import matplotlib.pyplot as plt\n",
    "from skimage.io import imshow, imread\n",
    "from skimage.color import rgb2yuv, rgb2hsv, rgb2gray, yuv2rgb, hsv2rgb\n",
    "from scipy.signal import convolve2d"
   ]
  },
  {
   "cell_type": "code",
   "execution_count": null,
   "id": "6c7b18d2",
   "metadata": {},
   "outputs": [],
   "source": [
    "import numpy as np\n",
    "import matplotlib.pyplot as plt\n",
    "from skimage.io import imshow, imread\n",
    "from skimage.color import rgb2yuv, rgb2hsv, rgb2gray, yuv2rgb, hsv2rgb\n",
    "from scipy.signal import convolve2d\n",
    "\n",
    "abba = cv2.imread('abdul.JPG')\n",
    "plt.figure(num=None, figsize=(18, 14), dpi=30)\n",
    "imshow(abba);"
   ]
  },
  {
   "cell_type": "code",
   "execution_count": null,
   "id": "a39e67f1",
   "metadata": {},
   "outputs": [],
   "source": []
  }
 ],
 "metadata": {
  "kernelspec": {
   "display_name": "Python 3 (ipykernel)",
   "language": "python",
   "name": "python3"
  },
  "language_info": {
   "codemirror_mode": {
    "name": "ipython",
    "version": 3
   },
   "file_extension": ".py",
   "mimetype": "text/x-python",
   "name": "python",
   "nbconvert_exporter": "python",
   "pygments_lexer": "ipython3",
   "version": "3.9.12"
  }
 },
 "nbformat": 4,
 "nbformat_minor": 5
}
